import random
import re
trials=0      #playing trials



def check(inp,rand,Range):                      #defined function to check the input

    if re.match('\d',inp):                      # check if input is number
        inp=int(inp)
        
        if 0 <= inp <= Range:                   # check if input is in range
            
            if inp == rand:
                print ("you guessed right")  
                
            if inp > rand:
                print("wrong number your number is higher")
                           
            if inp < rand:            
                print("wrong number your number is lower")
                
        else:
            print("you entered number out of range")
            
    else:
        print("you didnt enter a number")  
              

            
            
            

mode=input("choose easy or average or hard:")       # take mode of game as input






if mode == 'easy':
    Range=10
    rand=random.randrange(0,10)
    for trial in range(3):              
        trials+=1
        inp=None
        inp=input("guess a number from 0 to 10:")    # takes guessed number as input from user
        check(inp,rand,Range)                        # call check function
        
        
             
if mode == 'average':
    Range=50
    rand=random.randrange(0,50)
    for trial in range(3):              
        trials+=1
        inp=None
        inp=input("guess a number from 0 to 50:")    # takes guessed number as input from user
        check(inp,rand,Range)                        # call check function
        
        
        
if mode == 'hard':
    Range=100
    rand=random.randrange(0,100)
    for trial in range(3):                 
        trials+=1
        inp=None
        inp=input("guess a number from 0 to 100:")   # takes guessed number as input from user
        check(inp,rand,Range)                        # call check function
        
        
        
if (mode!="easy") and (mode!= "hard") and (mode!= "average"):#check if mode selected right
    print("you can only choose easy or average or hard")
    
    
    
if trials ==3:                                       #check if player finished his trials
    print('you lost the number was : ',rand)
